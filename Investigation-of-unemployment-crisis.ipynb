{
 "cells": [
  {
   "cell_type": "markdown",
   "metadata": {},
   "source": [
    "취업난 사실 조사(데이터 분석 프로젝트)\n",
    "=====================\n",
    "\n",
    "\n"
   ]
  },
  {
   "cell_type": "markdown",
   "metadata": {},
   "source": [
    "\n",
    "----------------------------------------------\n",
    "\n",
    "# 1. 주제 선정 이유\n",
    "\n",
    "21세기에 접어들면서 매년 빠짐없이 화두에 오르는 취업난 문제. 많은 사람들이 뉴스와 시사 프로그램 등 미디어 매체에서 한국의 취업률이 매년 낮아지고 있다는 보도를 자주 접하고 있다. 이로 인하여 대학생들 및 많은 예비 구직자들은 취업을 겪어 보기도 전에 스스로를 과소평가하며 자신감을 상실하고 있다. 이러한 사회적 분위기의 여파로 20대들 사이에서는 '헬조선'이라는 신조어까지 생겼는데, 이또한 취업하기 힘든 나라, 공부만 열심히 하고 그 노력에 대한 보상은 받기 힘든 나라로 인식하는것에서 비롯되었다고 볼 수 있다.\n",
    "하지만, 미디어 기사의 타이틀만 극심한 취업난을 자극적으로 표현하며 와닿지 않는 퍼센트 수치만 내세울 뿐이다. 그러므로, 이와 관련된 믿을만한 데이터를 분석하여 직접 확인해볼 필요가 있을 것이다.\n",
    "\n",
    "# 2. 가설 정의\n",
    "\n",
    "급격하게 발전한 우리나라는 고작 20~30년 정도 차이나는 우리의 부모님 세대와만 비교해 보더라도 삶의 질이 드라마틱하게 증가했음을 알 수 있다. 취업을 힘들어하는 주변사람들을 보면서, 급격한 발전을 이루기전에 우리들의 부모님 세대들은 취업을 앞두고 어떤것들을 고려했을지 의문을 가졌다. 현재와 같이 대기업, 공기업만 바라보며 연봉에 대한 눈이 높거나, 서울 경기권을 고집하고 사무직만을 원하지는 않았을 것이다. 우리가 느끼고 있는 취업난은 우리들 스스로가 만든 것이라는 생각이 들었다. \n",
    "'취업이 힘들다는 것은 어디까지나 자신이 원하는 목표 기업에 들어가기 어려울 뿐, 실질적인 취업률은 예전과 큰 차이가 없을 것이다.'\n",
    "\n",
    "취업 준비생들이 기업체를 지원할때 가장 많이 고려하는 것은 '연봉'으로 매년 부동의 1위를 지키고 있다고 한다.(취업 포털 사이트 인크루트 설문조사) 따라서, 연간 취업률과 희망 연봉 데이터를 분석해보고 왜 취업난 문제가 매년 회자되는지 추측해보자.\n",
    " \n",
    "\n",
    "\n",
    "# 3. 인터넷을 통한 데이터 획득\n",
    "   \n",
    "  <excel파일>\n",
    "- 연령별 경제활동 인구 (KOSIS - 통계청 kosis.kr)\n",
    "- 연령별 비경제활동 인구 (KOSIS - 통계청 kosis.kr)\n",
    "- 취업(시간별) 취업자 (KOSIS - 통계청 kosis.kr)\n",
    "- 연도별 평균 연봉 (KOSIS - 통계청 kosis.kr)  \n",
    "- 연도별 희망연봉 (잡코리아, 사람인, 인크루트)\n",
    "- 소비자물가 상승률 (통계청, 「소비자물가조사)  \n",
    "    \n",
    "# 4. 분석을 위한 데이터의 가공\n",
    "\n",
    "1. 기본적으로 모든 데이터들을 excel 파일들로 수집하였으므로, python의 openpyxl module의 load_workbook 메서드를 이용하여 데이터에 접근한다."
   ]
  },
  {
   "cell_type": "code",
   "execution_count": 5,
   "metadata": {},
   "outputs": [],
   "source": [
    "from openpyxl import load_workbook"
   ]
  },
  {
   "cell_type": "markdown",
   "metadata": {},
   "source": [
    "2. excel의 데이터중 필요로 하는 정보를 추출하기 위해 각 excel 파일들의 테이블 구조를 참고하여 파일별 알고리즘을 구축한다.\n",
    "- 취업률을 계산하는데 있어 대상자는 '모든 취업자'와 '20-39세' 두 부류로 추출한다.\n",
    "- getTotalnumberof 사용자 정의 함수를 이용하여 '20-29세'그룹과 '30-39'세 그룹의 인구수와 노동자수를 얻어낸다.\n",
    "- 취업률 공식에 대입하여 20~29세 그룹의 취업률(data1)과 30-39세 그룹의 취업률(data2)를 추출한다.\n",
    "- 20-39세 대상의 취업률 : (20-29세 취업자 수 / 20-29세 인구수), (30-39세 취업자 수 / 30-39세 인구수)"
   ]
  },
  {
   "cell_type": "code",
   "execution_count": 7,
   "metadata": {},
   "outputs": [],
   "source": [
    "import copy\n",
    "\n",
    "###########################################################################################\n",
    "# 연령별_경제활동인구_총괄_20190417134039.xlsx\n",
    "# get date of hire rates in two groups, 20-29 age group and 30-39 age group\n",
    "\n",
    "def getTotalnumberof(cellrange,ageToage):\n",
    "    \n",
    "    \"\"\"\n",
    "    (tuple, string) -> (list, list)\n",
    "    \n",
    "    get the number of population and workers in an age group by using cell_range of Exell file and inputted age group\n",
    "\n",
    "    \"\"\"\n",
    "\n",
    "    totalnumberofAll = {} \n",
    "    totalnumberofWorkers = {}\n",
    "    colforAgegroup = sheet['A']\n",
    "    \n",
    "\n",
    "    for age in colforAgegroup: # get the row number pointing an inputted agegroup\n",
    "        if age.value == ageToage: \n",
    "            temprow = age.row\n",
    "            break\n",
    "    \n",
    "    count = 0\n",
    "    for year in cell_range[0]: # make dictionaries that have data the number of people and wokers in the group with the year \n",
    "        \n",
    "        if year.column == 1:\n",
    "            continue\n",
    "        if type(year.value) is str:\n",
    "            tempcol = year.column\n",
    "            totalnumberofAll[year.value] = sheet[temprow][tempcol-1].value \n",
    "            tempyear = year\n",
    "        \n",
    "        if cell_range[1][count].value == '취업자 (천명)':\n",
    "            totalnumberofWorkers[tempyear.value] = cell_range[temprow-1][count].value\n",
    "        count += 1\n",
    "    \n",
    "\n",
    "# make the dictionary meaningful\n",
    "    tempdict = copy.deepcopy(totalnumberofAll)\n",
    "    for i in tempdict.keys(): \n",
    "        if i == '2019. 03':\n",
    "            break\n",
    "        del totalnumberofAll[i]\n",
    "        del totalnumberofWorkers[i]\n",
    "    totalnumberofAll = sorted(totalnumberofAll.items())\n",
    "    totalnumberofWorkers = sorted(totalnumberofWorkers.items())\n",
    "    return totalnumberofAll, totalnumberofWorkers\n",
    "\n",
    "\n",
    "###########################################################################################    \n",
    "        \n",
    "    \n",
    "mydata = load_workbook('data/연령별_경제활동인구_총괄_20190417134039.xlsx', data_only = True)\n",
    "sheet = mydata['데이터']\n",
    "cell_range = sheet['A1':'IW22']\n",
    "\n",
    "totalnumber20to29 = [] # the total number of people in the 20-29 age group (the exact number of people is value * 1000)\n",
    "totalnumber30to39 = [] \n",
    "thenumberofworkers20to29 = [] # the number of workers in the 20-29 age group (the exact number of people is value * 1000)\n",
    "thenumberofworkers30to39 = []\n",
    "\n",
    "totalnumber20to29, thenumberofworkers20to29 = getTotalnumberof(cell_range, '20 - 29세')\n",
    "totalnumber30to39, thenumberofworkers30to39 = getTotalnumberof(cell_range, '30 - 39세')\n",
    "\n",
    "\n",
    "# calculate the hire rate each group \n",
    "\n",
    "hirerate20to29 = [] # the hire rate of 20-29 age group - data 1\n",
    "hirerate30to39 = [] # the hire rate of 30-39 age group - data 2\n",
    "\n",
    "\n",
    "for i in range(len(totalnumber20to29)):\n",
    "    year = totalnumber20to29[i][0]\n",
    "    rate = \"%0.2f\" % float(thenumberofworkers20to29[i][1] / totalnumber20to29[i][1] * 100)\n",
    "    hirerate20to29.append((year, rate))\n",
    "\n",
    "for i in range(len(totalnumber30to39)):\n",
    "    year = totalnumber30to39[i][0]\n",
    "    rate = \"%0.2f\" % float(thenumberofworkers30to39[i][1] / totalnumber30to39[i][1] * 100)\n",
    "    hirerate30to39.append((year, rate))\n",
    "\n",
    "###########################################################################################  "
   ]
  },
  {
   "cell_type": "markdown",
   "metadata": {},
   "source": [
    "- 연령별 경제활동 인구 파일과 취업(시간별) 취업자 파일로 부터 취업률을 계산한다. \n",
    "- 전체 인구 대비 고용률을 구하기 위해 20세 이상 인구수와 모든 노동자 수를 얻어낸다.\n",
    "- 아래의 공식을 이용하여 대한민국 전체 인구에 대한 경제활동 비율(data3)를 추출한다.\n",
    "- 모든 취업자를 대상으로 한 취업률 = (모든 취업자 수/20세 이상인 인구수)"
   ]
  },
  {
   "cell_type": "code",
   "execution_count": 8,
   "metadata": {},
   "outputs": [],
   "source": [
    "\n",
    "###########################################################################################  \n",
    "# 취업시간별_취업자_20190417133410.xlsx\n",
    "# get data of the hire rate for all people regardless of their age\n",
    "\n",
    "mydata2 = load_workbook('data/취업시간별_취업자_20190417133410.xlsx', data_only = True)\n",
    "sheet2 = mydata2['데이터']\n",
    "\n",
    "cell_range2 = sheet2['A1':'AT2']\n",
    "\n",
    "\n",
    "totalnumberofpeople = {} # the total number of population\n",
    "totalnumberofworkers = {} # the total number of all workers \n",
    "\n",
    "count = 0\n",
    "for year in cell_range2[0]:  \n",
    "    if year.column == 'A':\n",
    "        continue\n",
    "    totalnumberofworkers[year.value] = cell_range2[1][count].value\n",
    "    count += 1\n",
    "\n",
    "# make the dictionary meaningful : get the data (from 2000 to 2019)\n",
    "tempdict = copy.deepcopy(totalnumberofworkers)\n",
    "for i in tempdict.keys(): \n",
    "    if i == '2019. 03':\n",
    "        break\n",
    "    del totalnumberofworkers[i]\n",
    "totalnumberofworkers = sorted(totalnumberofworkers.items())\n",
    "\n",
    "\n",
    "for i in range(len(totalnumberofworkers)):\n",
    "    if totalnumberofworkers[i][0] == '2000':\n",
    "        count = i\n",
    "        break\n",
    "\n",
    "totalnumberofworkers = totalnumberofworkers[count:]\n",
    "\n",
    "\n",
    "\n",
    "# to get the number of population, '연령별_경제활동인구_총괄_20190417134039.xlsx' is used again\n",
    "###########################################################################################\n",
    "colforFindingdata = sheet['A']\n",
    "for val in colforFindingdata:\n",
    "    if val.value == '계':\n",
    "        temprow = val.row\n",
    "\n",
    "count = 0\n",
    "for year in cell_range[0]:  \n",
    "    if year.column == 'A':\n",
    "        continue\n",
    "    if type(year.value) is str:\n",
    "        tempcol = year.column\n",
    "        tempyear = year\n",
    "        \n",
    "    if cell_range[1][count].value == '15세이상인구 (천명)':\n",
    "        totalnumberofpeople[tempyear.value] = cell_range[temprow-1][count].value\n",
    "    count += 1\n",
    "# make the dictionary meaningful\n",
    "tempdict = copy.deepcopy(totalnumberofpeople)\n",
    "for i in tempdict.keys(): \n",
    "    if i == '2019. 03':\n",
    "        break\n",
    "    del totalnumberofpeople[i]\n",
    "totalnumberofpeople = sorted(totalnumberofpeople.items())\n",
    "###########################################################################################    \n",
    "\n",
    "\n",
    "# calculate the hire rate for all people\n",
    "\n",
    "hirerateall = [] # the hire rate for all - data 3\n",
    "\n",
    "for i in range(len(totalnumberofpeople)):\n",
    "    year = totalnumberofpeople[i][0]\n",
    "    rate = \"%0.2f\" % float(totalnumberofworkers[i][1] / totalnumberofpeople[i][1] * 100)\n",
    "    hirerateall.append((year, rate))\n"
   ]
  },
  {
   "cell_type": "markdown",
   "metadata": {},
   "source": [
    "- 연도별 평균연봉과 희망연봉 데이터를 추출한다.\n",
    "- getAveragesalaryof 사용자 정의 함수를 이용하여 대상이 되는 연령층별 평균 연봉(data4~6)을 얻어낸다.\n",
    "- 평균 연봉은 (월임금총액 * 12)로 계산하며, 월임금총액은 (정액급여+초과급여+전년도연간특별급여/12개월)이다.\n",
    "- 희망연봉 데이터(data7)를 따로 얻어낸다.\n",
    "- 소비자 물가의 변화를 무시한 평균연봉과 희망연봉의 비교는 현실적인 의미가 없으므로 소비자물가(CPI) 상승률 데이터를 추출\n",
    "- 신입사원에 대한 평균연봉 상승률(data8), 취업준비자들의 희망연봉 상승률(data9)을 기존의 데이터로 부터 얻어낸다.\n",
    "- 상승률 = (올해 데이터/전년도 데이터 * 100)\n",
    "- 세가지 상승률 데이터를 비교한다."
   ]
  },
  {
   "cell_type": "code",
   "execution_count": 9,
   "metadata": {},
   "outputs": [],
   "source": [
    "###########################################################################################\n",
    "# 연령별_임금_및_근로시간_20190428172144.xlsx\n",
    "# get the data of average salaries per year\n",
    "\n",
    "def getAveragesalaryof(cell_range, ageToage):\n",
    "    \"\"\"\n",
    "    (tuple, string) -> list\n",
    "    \n",
    "    get an average salary in a group of ageToage \n",
    "\n",
    "    \"\"\"\n",
    "    averageSalaries = {} # average salaries from 2006 to 2018\n",
    "\n",
    "    colforFindingdata = sheet3['A']\n",
    "    colforAgegroup = sheet3['B']\n",
    "    \n",
    "    for data in colforFindingdata: # get the row number pointing an inputted data\n",
    "        if data.value == '전체근로자(특수형태포함)':\n",
    "            temprow = data.row\n",
    "            break\n",
    "    for age in colforAgegroup: # get the row number pointing an inputted age group\n",
    "        if age.value == ageToage and age.row >= temprow:\n",
    "            temprow = age.row\n",
    "            break\n",
    "    for year in cell_range[0]: # make dictionary having data, the average salary with year\n",
    "        if year.column == 1 or year.column == 2:\n",
    "            continue\n",
    "        if type(year.value) is str:\n",
    "            tempcol = year.column\n",
    "            averageSalaries[year.value] =  \"%0.2f\" % float(sheet3[temprow][tempcol-1].value * 1.2)\n",
    "        \n",
    "    averageSalaries = sorted(averageSalaries.items())\n",
    "    return averageSalaries\n",
    "\n",
    "###########################################################################################\n",
    "\n",
    "mydata3 = load_workbook('data/연령별_임금_및_근로시간_20190428172144.xlsx', data_only = True)\n",
    "sheet3 = mydata3['데이터']\n",
    "cell_range3 = sheet3['A1':'O17']\n",
    "\n",
    "\n",
    "\n",
    "averagesalary0to29 = getAveragesalaryof(cell_range3, '29세이하') # the average salary of 0-29 age group - data 4\n",
    "averagesalary30to39 = getAveragesalaryof(cell_range3, '30~39세') # the average salary of 30-39 age group - data 5\n",
    "averagesalaryall = getAveragesalaryof(cell_range3, '전체') # the average salary for all - data 6\n",
    "\n",
    "###########################################################################################\n",
    "# 희망연봉.xlsx\n",
    "# get the data of Expected salary per year\n",
    "\n",
    "\n",
    "mydata4 = load_workbook('data/희망연봉.xlsx', data_only = True)\n",
    "sheet4 = mydata4['Sheet1']\n",
    "cell_range4 = sheet4['A1':'N2']\n",
    "\n",
    "\n",
    "expectedsalaries = {} # expected salaries from 2006 to 2019\n",
    "\n",
    "for year in cell_range4[0]:\n",
    "    if sheet4[2][year.column-1].value == 0:\n",
    "        continue\n",
    "    expectedsalaries[year.value] = sheet4[2][year.column-1].value\n",
    "\n",
    "expectedsalaries = sorted(expectedsalaries.items()) # expected salaries of people looking for a job  - data 7\n",
    "\n",
    "###########################################################################################\n",
    "# calculate the growth rate of an average salary and an expected salary in 20-29 age group  \n",
    "\n",
    "growthrateofAverage20to29 = {} # - data 8\n",
    "growthrateofExpected = {} # - data 9\n",
    "\n",
    "count = 0\n",
    "for i in range(1, len(averagesalary0to29)):\n",
    "    growthrateofAverage20to29[averagesalary0to29[i][0]] = \"%0.2f\" % float((float(averagesalary0to29[i][1]) / float(averagesalary0to29[i-1][1]) - 1) * 100)\n",
    "\n",
    "for i in range(1, len(expectedsalaries)):\n",
    "    growthrateofExpected[expectedsalaries[i][0]] = \"%0.2f\" % float((float(expectedsalaries[i][1]) / float(expectedsalaries[i-1][1]) - 1) * 100)\n",
    "\n",
    "###########################################################################################\n",
    "# stats_402701.xlsx   :   data file for CPI(consumer price index)\n",
    "# get the growth rate of consumer price index\n",
    "\n",
    "mydata5 = load_workbook('data/stats_402701.xlsx', data_only = True)\n",
    "sheet5 = mydata5['Sheet1']\n",
    "cell_range5 = sheet5['A1':'K12']\n",
    "\n",
    "\n",
    "growthrateofCPI = {} # the growth rate of CPI\n",
    "\n",
    "count = 1\n",
    "for year in cell_range5[1]:  \n",
    "    if year.column == 1:\n",
    "        continue\n",
    "    growthrateofCPI[year.value] = cell_range5[3][count].value\n",
    "    count += 1\n",
    "\n",
    "growthrateofCPI = sorted(growthrateofCPI.items()) # the growth rate of CPI - data 10\n"
   ]
  },
  {
   "cell_type": "markdown",
   "metadata": {},
   "source": [
    "# 5. 분석 결과 도출\n"
   ]
  },
  {
   "cell_type": "markdown",
   "metadata": {},
   "source": [
    "- Python을 이용한 데이터 분석 라이브러리 Pandas를 사용한다.\n",
    "- Pandas에서 제공하는 DataFrame 자료형에 위에서 가공한 데이터( data1 ~ data10 )를 적절히 저장시킨다.\n",
    "- 분석한 데이터를 효과적으로 보여주기 위해 matplotlib 모듈을 사용하여 그래프로 시각화한다."
   ]
  },
  {
   "cell_type": "markdown",
   "metadata": {},
   "source": [
    "1. 취업률(20~29세 그룹과 30~39세 그룹) = data1, data2가 이용됨"
   ]
  },
  {
   "cell_type": "code",
   "execution_count": 10,
   "metadata": {},
   "outputs": [
    {
     "data": {
      "image/png": "[encoded data removed]",
      "text/plain": [
       "<Figure size 432x288 with 1 Axes>"
      ]
     },
     "metadata": {
      "needs_background": "light"
     },
     "output_type": "display_data"
    }
   ],
   "source": [
    "import numpy as np\n",
    "import pandas as pd\n",
    "import matplotlib.pyplot as plt\n",
    "\n",
    "# List form for DataFrame\n",
    "years = []\n",
    "Hirerate20and30 = []# =[[hirerate20to29 in xxxx(year), hirerate30to39 in xxxx(year)], [], [], ...]\n",
    "\n",
    "for i in range(len(hirerate20to29)):\n",
    "    Hirerate20and30.append([float(hirerate20to29[i][1]), float(hirerate30to39[i][1])])\n",
    "    years.append(int(float(hirerate20to29[i][0].replace(\" \", \"\"))))\n",
    "    \n",
    "#make DataFrame\n",
    "df = pd.DataFrame(Hirerate20and30, columns = ['Hire rate of 20-29 age group', 'Hire rate of 30-39 age group'], index = years)\n",
    "\n",
    "#show graphs\n",
    "lines = df.plot.line()\n",
    "plt.title(\"Hire rate of two age groups (20 to 29, 30 to 39)\")\n",
    "plt.xlabel(\"Years\")\n",
    "plt.ylabel(\"Hire Rate\")\n",
    "plt.ylim(0,100)\n",
    "plt.grid()\n",
    "\n",
    "plt.show()"
   ]
  },
  {
   "cell_type": "markdown",
   "metadata": {},
   "source": [
    "2. 전체 인구별 경제활동 비율 = data3이 이용됨"
   ]
  },
  {
   "cell_type": "code",
   "execution_count": 11,
   "metadata": {},
   "outputs": [
    {
     "data": {
      "image/png": "[encoded data removed]",
      "text/plain": [
       "<Figure size 432x288 with 1 Axes>"
      ]
     },
     "metadata": {
      "needs_background": "light"
     },
     "output_type": "display_data"
    }
   ],
   "source": [
    "\n",
    "# List form for DataFrame\n",
    "years = []\n",
    "Hirerate = [] #Hire rate in Korea\n",
    "\n",
    "for i in hirerateall:\n",
    "    Hirerate.append(float(i[1]))\n",
    "    years.append(float(i[0].replace(\" \", \"\")))\n",
    "    \n",
    "#make DataFrame\n",
    "df = pd.DataFrame(Hirerate, columns = ['Hire rate in Korea'], index = years)\n",
    "\n",
    "#show graphs\n",
    "lines = df.plot.line()\n",
    "\n",
    "plt.title(\"Hire rate of all population in Korea\")\n",
    "plt.xlabel(\"Years\")\n",
    "plt.ylabel(\"Hire Rate\")\n",
    "plt.ylim(0,100)\n",
    "plt.grid()\n",
    "\n",
    "plt.show()"
   ]
  },
  {
   "cell_type": "markdown",
   "metadata": {},
   "source": [
    "3. 세가지 데이터(연도별 CPI(소비자 물가지수), 초임 평균 연봉, 구직자 희망 연봉)에 대한 '연도별 상승률' = data8, data9, data10이 이용됨"
   ]
  },
  {
   "cell_type": "markdown",
   "metadata": {},
   "source": [
    "- 그래프를 알맞게 해석하기 위해, 아래의 데이터는 '상승률'이라는 점에 주의하자. \n",
    "- cpi, 초임 연봉, 희망연봉의 실제 데이터 수치가 아닌, 상승률 수치를 사용한 이유 : 초임연봉, 희망연봉과 cpi는 단위가 다르기 때문에 한 곳에서 세가지 데이터를 동시에 비교하기 힘들다. 상승률을 비교한다면 단위와 상관없이 어느정도 비율로 상승 또는 하강했는지 비교 가능하다."
   ]
  },
  {
   "cell_type": "code",
   "execution_count": 12,
   "metadata": {},
   "outputs": [
    {
     "data": {
      "image/png": "[encoded data removed]",
      "text/plain": [
       "<Figure size 432x288 with 1 Axes>"
      ]
     },
     "metadata": {
      "needs_background": "light"
     },
     "output_type": "display_data"
    }
   ],
   "source": [
    "# List form for DataFrame\n",
    "years = []\n",
    "averagesalList = []\n",
    "expectedsalList = []\n",
    "cpiList =[]\n",
    "\n",
    "#set lists to be the same length(the same range of years)\n",
    "for key, val in growthrateofExpected.items():\n",
    "    expectedsalList.append(float(val))\n",
    "    years.append(key)\n",
    "del expectedsalList[-1]\n",
    "del years[-1]\n",
    "count = 0\n",
    "for key, val in growthrateofAverage20to29.items():\n",
    "    \n",
    "    if int(key) == years[count]:\n",
    "        averagesalList.append(float(val))\n",
    "        count += 1\n",
    "count = 0\n",
    "for i in growthrateofCPI:\n",
    "    if i[0] == years[count]:\n",
    "        cpiList.append(float(i[1]))\n",
    "        count += 1\n",
    "\n",
    "        \n",
    "Listforthree=[] # the list will include tree different data(growth rate of cpi, average salary, and expected salary) \n",
    "for idx,i in enumerate(cpiList):\n",
    "    Listforthree.append([cpiList[idx],averagesalList[idx],expectedsalList[idx]])\n",
    "\n",
    "#make DataFrame\n",
    "df = pd.DataFrame(Listforthree, columns = ['Growth rate of CPI', 'Average Salary', 'Expected Salary'], index = years)\n",
    "\n",
    "#show graphs\n",
    "lines = df.plot.line()\n",
    "\n",
    "plt.title(\"Growth rates of three kinds of data\")\n",
    "plt.xlabel(\"Years\")\n",
    "plt.ylabel(\"Growth Rate\")\n",
    "plt.ylim(-5,30)\n",
    "plt.grid()\n",
    "\n",
    "plt.show()"
   ]
  },
  {
   "cell_type": "markdown",
   "metadata": {},
   "source": [
    "# 6. 결론\n"
   ]
  },
  {
   "cell_type": "markdown",
   "metadata": {},
   "source": [
    "- 20~29세 그룹의 취업률은 약60%로 유지되었다.\n",
    "- 30~39세 그룹의 취업률은 약70%에서 유지되었고 결론적으로 약간 상승하였다.\n",
    "- 전체 인구에 대한 취업률은 약50%로 유지되었다."
   ]
  },
  {
   "cell_type": "markdown",
   "metadata": {},
   "source": [
    "=> 연령별 실제 취업률과 경제활동 비율과 전체 인구에 대한 비율을 확인해본 결과, 2000년도 이후 현재까지 비율상 큰 변화가 없음을 확인하였다. "
   ]
  },
  {
   "cell_type": "markdown",
   "metadata": {},
   "source": [
    "\n",
    "- 신입사원들 기준 초봉은 2014~2015 구간을 제외하고 항상 증가하였다.\n",
    "- 평균연봉이 CPI 보다 큰 비율로 증가하고 있다 = '소비자 물가'보다 '평균 연봉'이 비율상 더 큰 폭으로 증가하고 있다.\n",
    "- 신입 희망연봉은 평균연봉보다 훨씬 크게 증가해왔다. "
   ]
  },
  {
   "cell_type": "markdown",
   "metadata": {},
   "source": [
    "=> 취업을 희망하는 사람들이 과거보다 소비자 물가 대비 평균 연봉 비율이 높아지고 있음에도 불구하고 매년 더욱 높은 연봉을 희망하고 있음을 확인하였다. "
   ]
  },
  {
   "cell_type": "markdown",
   "metadata": {},
   "source": [
    "결론적으로, 예상한 바와 같이 취업률은 과거와 크게 다르지 않았다. 하지만 \"매년 취업이 힘들다\"는 여론이 증가하고 있는 이유는 취업을 희망하는 사람들의 희망 연봉 및 사내 복지 수준 등이 높아졌기 때문일수도 있다는 가능성을 확인하였다. 취업 연계 사이트의 조사에 따라 '취업시 가장 크게 고려하는 요소'인 연봉만을 확인 하였지만 외적으로 높은 수준의 복지, 근무지 위치적 이점들, 업무 강도 등 다른 부분에 대한 기대 또한 높아졌을 것이다. 확실하지 않은 여론에 자신감을 잃고 외부적인 요인에서 핑계를 찾기 보다는 자신이 원하는 수준의 기업에 적합한 사람이 되도록 노력하는 사람이 되자."
   ]
  },
  {
   "cell_type": "markdown",
   "metadata": {},
   "source": [
    "\n",
    "    "
   ]
  },
  {
   "cell_type": "markdown",
   "metadata": {},
   "source": [
    "# 7. 참고문헌\n"
   ]
  },
  {
   "cell_type": "markdown",
   "metadata": {},
   "source": [
    "- 코딩 도장 (https://dojang.io)\n",
    "- Pandas (http://pandas.pydata.org)"
   ]
  },
  {
   "cell_type": "markdown",
   "metadata": {},
   "source": [
    "\n"
   ]
  }
 ],
 "metadata": {
  "kernelspec": {
   "display_name": "Python 3",
   "language": "python",
   "name": "python3"
  },
  "language_info": {
   "codemirror_mode": {
    "name": "ipython",
    "version": 3
   },
   "file_extension": ".py",
   "mimetype": "text/x-python",
   "name": "python",
   "nbconvert_exporter": "python",
   "pygments_lexer": "ipython3",
   "version": "3.8.3"
  }
 },
 "nbformat": 4,
 "nbformat_minor": 2
}
